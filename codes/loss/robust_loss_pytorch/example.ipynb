{
 "cells": [
  {
   "cell_type": "code",
   "execution_count": 4,
   "metadata": {},
   "outputs": [],
   "source": [
    "import numpy as np\n",
    "import torch \n",
    "import matplotlib.pyplot as plt\n",
    "import robust_loss_pytorch.general\n",
    "\n",
    "# Construct some regression data with some extreme outliers.\n",
    "np.random.seed(1)\n",
    "n = 50\n",
    "scale_true = 0.7\n",
    "shift_true = 0.15\n",
    "x = np.random.uniform(size=n)\n",
    "y = scale_true * x + shift_true\n",
    "y += np.random.normal(scale=0.025, size=n)\n",
    "flip_mask = np.random.uniform(size=n) > 0.9\n",
    "y = np.where(flip_mask, 0.05 + 0.4 * (1. - np.sign(y - 0.5)), y)\n",
    "\n",
    "x = torch.Tensor(x)\n",
    "y = torch.Tensor(y)\n",
    "\n",
    "class RegressionModel(torch.nn.Module): \n",
    "    # A simple linear regression module.\n",
    "    def __init__(self): \n",
    "        super(RegressionModel, self).__init__() \n",
    "        self.linear = torch.nn.Linear(1, 1)\n",
    "    def forward(self, x): \n",
    "        return self.linear(x[:,None])[:,0]\n",
    "\n",
    "def plot_regression(regression):\n",
    "    # A helper function for plotting a regression module.\n",
    "    x_plot = np.linspace(0, 1, 100)\n",
    "    y_plot = regression(torch.Tensor(x_plot)).detach().numpy()\n",
    "    y_plot_true = x_plot * scale_true + shift_true\n",
    "\n",
    "    plt.figure(0, figsize=(4,4))\n",
    "    plt.scatter(x, y)\n",
    "    plt.plot(x_plot, y_plot_true, color='k')\n",
    "    plt.plot(x_plot, y_plot, color='r')"
   ]
  },
  {
   "cell_type": "code",
   "execution_count": 11,
   "metadata": {},
   "outputs": [
    {
     "name": "stdout",
     "output_type": "stream",
     "text": [
      "0   : loss=6.892803\n",
      "100 : loss=1.706846\n",
      "200 : loss=1.674322\n",
      "300 : loss=1.673696\n",
      "400 : loss=1.673694\n",
      "500 : loss=1.673694\n",
      "600 : loss=1.673694\n",
      "700 : loss=1.673694\n",
      "800 : loss=1.673694\n",
      "900 : loss=1.673694\n",
      "1000: loss=1.673694\n",
      "1100: loss=1.673694\n",
      "1200: loss=1.673694\n",
      "1300: loss=1.673694\n",
      "1400: loss=1.673694\n",
      "1500: loss=1.673694\n",
      "1600: loss=1.673694\n",
      "1700: loss=1.673694\n",
      "1800: loss=1.673694\n",
      "1900: loss=1.673694\n"
     ]
    },
    {
     "data": {
      "image/png": "[encoded data removed]",
      "text/plain": [
       "<Figure size 288x288 with 1 Axes>"
      ]
     },
     "metadata": {
      "needs_background": "light"
     },
     "output_type": "display_data"
    }
   ],
   "source": [
    "# Fit a linear regression using mean squared error.\n",
    "regression = RegressionModel() \n",
    "params = regression.parameters()\n",
    "optimizer = torch.optim.Adam(params, lr = 0.01) \n",
    "\n",
    "for epoch in range(2000): \n",
    "\n",
    "    y_i = regression(x) \n",
    "    \n",
    "    # Hijacking the general loss to compute MSE.\n",
    "    loss = torch.mean(robust_loss_pytorch.general.lossfun(\n",
    "        y_i - y, alpha=torch.Tensor([2.]), scale=torch.Tensor([0.1])))\n",
    "\n",
    "    optimizer.zero_grad() \n",
    "    loss.backward() \n",
    "    optimizer.step() \n",
    "    if np.mod(epoch, 100) == 0:\n",
    "        print('{:<4}: loss={:03f}'.format(epoch, loss.data)) \n",
    "\n",
    "# It doesn't fit well.\n",
    "plot_regression(regression)"
   ]
  },
  {
   "cell_type": "code",
   "execution_count": 15,
   "metadata": {},
   "outputs": [
    {
     "name": "stdout",
     "output_type": "stream",
     "text": [
      "0   : loss=1.497499  alpha=1.004995  scale=0.993690\n",
      "100 : loss=0.365647  alpha=1.460623  scale=0.433759\n",
      "200 : loss=-0.307419  alpha=1.678272  scale=0.181545\n",
      "300 : loss=-0.440313  alpha=1.445860  scale=0.125634\n",
      "400 : loss=-0.747422  alpha=0.771877  scale=0.074583\n",
      "500 : loss=-1.213966  alpha=0.286796  scale=0.031820\n",
      "600 : loss=-1.439339  alpha=0.127493  scale=0.017698\n",
      "700 : loss=-1.485178  alpha=0.074832  scale=0.014162\n",
      "800 : loss=-1.498284  alpha=0.052338  scale=0.013124\n",
      "900 : loss=-1.503734  alpha=0.040308  scale=0.012733\n",
      "1000: loss=-1.507125  alpha=0.032830  scale=0.012530\n",
      "1100: loss=-1.509135  alpha=0.027691  scale=0.012406\n",
      "1200: loss=-1.510411  alpha=0.023921  scale=0.012322\n",
      "1300: loss=-1.511533  alpha=0.021025  scale=0.012260\n",
      "1400: loss=-1.512304  alpha=0.018723  scale=0.012211\n",
      "1500: loss=-1.512898  alpha=0.016844  scale=0.012176\n",
      "1600: loss=-1.513401  alpha=0.015280  scale=0.012141\n",
      "1700: loss=-1.513436  alpha=0.013955  scale=0.012122\n",
      "1800: loss=-1.514139  alpha=0.012819  scale=0.012093\n",
      "1900: loss=-1.514423  alpha=0.011832  scale=0.012073\n"
     ]
    },
    {
     "data": {
      "image/png": "[encoded data removed]",
      "text/plain": [
       "<Figure size 288x288 with 1 Axes>"
      ]
     },
     "metadata": {
      "needs_background": "light"
     },
     "output_type": "display_data"
    }
   ],
   "source": [
    "# Fit a linear regression, and the parameters of an adaptive loss.\n",
    "regression = RegressionModel() \n",
    "adaptive = robust_loss_pytorch.adaptive.AdaptiveLossFunction(\n",
    "    num_dims = 1, float_dtype=np.float32, device='cpu')\n",
    "params = list(regression.parameters()) + list(adaptive.parameters())\n",
    "optimizer = torch.optim.Adam(params, lr = 0.01) \n",
    "\n",
    "for epoch in range(2000): \n",
    "\n",
    "    y_i = regression(x) \n",
    "    \n",
    "    # Stealthily unsqueeze to an (n,1) matrix, and then compute the loss.\n",
    "    # A matrix with this shape corresponds to a loss where there's one shape+scale parameter\n",
    "    # per dimension (and there's only one dimension for this data).\n",
    "    loss = torch.mean(adaptive.lossfun((y_i - y)[:,None]))\n",
    "\n",
    "    optimizer.zero_grad() \n",
    "    loss.backward() \n",
    "    optimizer.step() \n",
    "    if np.mod(epoch, 100) == 0:\n",
    "        # You can see the alpha+scale parameters moving around.\n",
    "        print('{:<4}: loss={:03f}  alpha={:03f}  scale={:03f}'.format(\n",
    "            epoch, loss.data, adaptive.alpha()[0,0].data, adaptive.scale()[0,0].data)) \n",
    "\n",
    "# It fits!\n",
    "plot_regression(regression)"
   ]
  }
 ],
 "metadata": {
  "kernelspec": {
   "display_name": "Python 3",
   "language": "python",
   "name": "python3"
  },
  "language_info": {
   "codemirror_mode": {
    "name": "ipython",
    "version": 3
   },
   "file_extension": ".py",
   "mimetype": "text/x-python",
   "name": "python",
   "nbconvert_exporter": "python",
   "pygments_lexer": "ipython3",
   "version": "3.7.3"
  }
 },
 "nbformat": 4,
 "nbformat_minor": 2
}
